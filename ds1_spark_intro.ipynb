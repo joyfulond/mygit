{
 "cells": [
  {
   "cell_type": "markdown",
   "metadata": {
    "slideshow": {
     "slide_type": "slide"
    }
   },
   "source": [
    "# Chapter 1. Spark 시작하기\n",
    "\n",
    "* Last Updated on 202308_202009_201909_20181112_20180430_20171203_20160412\n",
    "* 설치 PIP Pyspark 3.4.1(Java 20, Python3.9, 2023 <- Spark2.2 for Hadoop2.7 (Python 3.6x), Spark1.6 for Hadoop2.6\n",
    "\n",
    "## 학습내용\n",
    "\n",
    "빅데이터는 대량의 데이터를 의미한다. 기존의 기법이나 도구로는 분석하기에 불충분하다. Spark는 클러스터를 구성하여 빅데이터의 분산, 병렬처리 및 분석에 적합하다. Spark를 설치하고, 시작점인 SparkSession을 생성하여 시작해보자.\n",
    "\n",
    "- 1.1 새삼 빅데이터\n",
    "- 1.2 Spark 필요할까\n",
    "- 1.3 프로젝트 디렉토리 구성\n",
    "- 1.4 PIP Pyspark 설치\n",
    "- 1.5 Spark 완전설치\n",
    "- 1.6 Spark 실행 방식\n",
    "- 1.7 IPython shell로 Spark사용하기\n",
    "- 1.8 Jupyter Notebook으로 Spark 사용하기\n",
    "- 1.9 Spark 설정"
   ]
  },
  {
   "cell_type": "markdown",
   "metadata": {},
   "source": [
    "## 문제 3: 전문점 커피에 대한 미디어 광고 전략을 계획\n",
    "\n",
    "부장님이 '전문점 커피에 대한 미디어 광고 전략을 계획해 보라'는 과업이 떨어졌다고 하자.\n",
    "\n",
    "데이터과학이 무엇이던가, 빅데이터를 배우지 않았던가, 의사결정을 지원한다는 사명이 있다고 배웠다.\n",
    "\n",
    "첫 문제이니까 '몸풀기' 느낌으로, 아직 Spark도 적용하지 말고 Python으로 뭔가 분석을 해보자.\n",
    "\n",
    "'흠...' 바로 코딩을 할 것인가 고민하지는 말자.\n",
    "\n",
    "무엇보다 먼저 문제를 정확히 이해하고 어떤 해결방안이 적합한지 검토한다. **문제기술서를 자신이 작성**해본다 (문제기술서(Problem Statement)는 어떤 문제를 해결하기 위한 목적, 요구 사항, 제한 조건 등을 상세하게 정의한 문서로 소프트웨어 프로젝트를 시작할 때 팀원들과 같이 작성한다).\n",
    "\n",
    "### 문제와 해결방안\n",
    "\n",
    "* 커피전문점 매출이 떨어지고 있다.\n",
    "* 커피를 마시고, 대화하는 본래의 변화된 목적으로 활용되고 있다. 과외, 보험 상담, 업무 회의, 소규모 모임 또는 공부하는 장소로 활용되고 있다.\n",
    "* SNS에서는 커피와 관련해 어떤 텍스트가 작성되는지, 단어를 분석하면 흥미롭겠다. 광고 메시지에도 반영하면 시의적절하겠다\n",
    "\n",
    "### 문제를 정의한다.\n",
    "\n",
    "* 인스턴트 커피, 프리미엄 커피와 다른 포지셔닝 전략.\n",
    "* 커피의 의견주도층은 SNS를 많이 쓰는 2030 세대.\n",
    "* 캔커피에 대해서는 맛없고 해롭다는 생각이지만 전문점 커피는 비싸지만 여유롭게 시간을 보내거나 소규모 모임을 하기 편리.\n",
    "* 어떤 감성에 소구할 것인가? 호감도가 높은 연예인이 나와서 여유로움, 전문가가 열심히 일하면서 생각에 잠기는 장면, 계절에 맞는 시원한 아이스 커피 등.\n",
    "* D사 M제품 홍보에서는 다양한 연령대의 모델이 사랑과 화해, 친밀감, 이해, 여유로움을 시리즈로 '엄마의 애증', '부자의 이해', '부부의 화해', '청춘의 심호흡'을 연기.\n",
    "* 자사 제품에 맞는 포지셔닝을 결정하기 위해, 커피와 연관단어를 분석하는 문제.\n",
    "\n",
    "### 커피와 관련된 단어가 무엇일까?\n",
    "\n",
    "* SNS에서 관련 글을 복사했고, 여기서 아이디어를 찾아보자.\n",
    "\n",
    "번호 | SNS 게시글\n",
    "-----|-----\n",
    "1 | 진동벨 좀 만들었으면 좋겠다 2층 매장이라 결국 손님이 어딨는지는 몰라서 그저 열심히 목터져가며 소리지르는게 전부임 넘 안쓰럽다 그리고 픽업 장소 옆은 시장통임 북적북적\n",
    "2 | 옆 동네 스타벅스 왔다,,, 무려 노트북 들고,,,,!\n",
    "3 | 스타벅스에 있다가 나오면 머리카락에 커피향기가 배는데 안에 있을 땐 모르겠다가 밖에 나와서 머리카락이 흔들릴 때마다 느껴지는 거 너무 좋아\n",
    "4 | 저도...마싯는 커피 마시고 싶어여...훌젹ㅋㅋㅋ 막 요즘 로스팅 전문적으로 하는 데 가서 마시구 싶고 그러네요 근데 어떤데 있는질 몰라서... 합정 상수 부근 쪽 찾아볼가여?\n",
    "5 | 예전에는 스타벅스가 비싸다는 인식이 있었는데 카페들이 가격들이 다 똑같은듯\n",
    "6 | 저도 그렇게 섬세한 입맛은 아니라서 ㅋㅋ 가격대만큼 맛을 찾아낼 수 있을지는 의문이네요...ㅋㅋㅋ평범한  곳 가도 갠찬아여! 엄청 맛 없는 것만 아니라면야 ㅋㅋㅋ\"\"\"\n",
    "\n",
    "### 관련된 단어를 분석하려면 빈도를 계산한다.\n",
    "\n",
    "* 종이를 꺼내거나 엑셀에 빈도를 표시\n",
    "* 분량이 많아지면 프로그래밍이 필수\n",
    "\n",
    "## 커피 관련 글에서 단어 세기\n",
    "\n",
    "* source: data_strcutre.ipynb\n",
    "* 프로그래밍 환경을 준비한다.\n",
    "* ipython notebook에서 word count를 한다.\n",
    "* 프로그램을 만들고 실행한다.\n",
    "\n",
    "### 단어 세기\n",
    "\n",
    "* 문장을 합쳐서 문자열 데이터로 만든다."
   ]
  },
  {
   "cell_type": "code",
   "execution_count": 2,
   "metadata": {},
   "outputs": [],
   "source": [
    "sent = u\"\"\"진동벨 좀 만들었으면 좋겠다 2층 매장이라 결국 손님이 어딨는지는 몰라서 그저 열심히 목터져가며 소리지르는게 전부임 넘 안쓰럽다 그리고 픽업 장소 옆은 시장통임 북적북적\n",
    "옆 동네 스타벅스 왔다,,, 무려 노트북 들고,,,,!\n",
    "스타벅스에 있다가 나오면 머리카락에 커피향기가 배는데 안에 있을 땐 모르겠다가 밖에 나와서 머리카락이 흔들릴 때마다 느껴지는 거 너무 좋아\n",
    "저도...마싯는 커피 마시고 싶어여...훌젹ㅋㅋㅋ 막 요즘 로스팅 전문적으로 하는 데 가서 마시구 싶고 그러네요 근데 어떤데 있는질 몰라서... 합정 상수 부근 쪽 찾아볼가여?\n",
    "예전에는 스타벅스가 비싸다는 인식이 있었는데 카페들이 가격들이 다 똑같은듯\n",
    "저도 그렇게 섬세한 입맛은 아니라서 ㅋㅋ 가격대만큼 맛을 찾아낼 수 있을지는 의문이네요...ㅋㅋㅋ평범한  곳 가도 갠찬아여! 엄청 맛 없는 것만 아니라면야 ㅋㅋㅋ\"\"\""
   ]
  },
  {
   "cell_type": "markdown",
   "metadata": {},
   "source": [
    "* 조사같은 의미없는 부분 빼기로 한다.\n",
    "* 품사를 분석하는 SW를 사용하지 않고 수작업으로 한다."
   ]
  },
  {
   "cell_type": "code",
   "execution_count": 3,
   "metadata": {},
   "outputs": [
    {
     "name": "stdout",
     "output_type": "stream",
     "text": [
      "진동벨 좀 만들었으면 좋겠다 2층 매장이라 결국 손님 어딨는지는 몰라서 그저 열심히 목터져가며 소리지르는게 전부임 넘 안쓰럽다 그리고 픽업 장소 옆은 시장통임 북적북적 옆 동네 스타벅스 왔다,,, 무려 노트북 들고,,,,! 스타벅스 있다가 나오면 머리카락 커피향기 배는데 안에 있을 땐 모르겠다가 밖에 나와서 머리카락 흔들릴 때마다 느껴지는 거 너무 좋아 저도...마싯는 커피 마시고 싶어여...훌젹 ㅋㅋㅋ 막 요즘 로스팅 전문 하는 데 가서 마시구 싶고 그러네요 근데 어떤데 있는질 몰라서... 합정 상수 부근 쪽 찾아볼가여? 예전에는 스타벅스 비싸다는 인식 있었는데 카페 가격 다 똑같은듯 저도 그렇게 섬세한 입맛 아니라서 ㅋㅋ 가격 맛 찾아낼 수 있을지는 의문이네요...ㅋㅋㅋ 평범한 곳 가도 갠찬아여! 엄청 맛 없는 것만 아니라면야 ㅋㅋㅋ "
     ]
    }
   ],
   "source": [
    "sent = u\"\"\"진동벨 좀 만들었으면 좋겠다 2층 매장이라 결국 손님 어딨는지는 몰라서 그저 열심히 목터져가며 소리지르는게 전부임 넘 안쓰럽다 그리고 픽업 장소 옆은 시장통임 북적북적\n",
    "옆 동네 스타벅스 왔다,,, 무려 노트북 들고,,,,!\n",
    "스타벅스 있다가 나오면 머리카락 커피향기 배는데 안에 있을 땐 모르겠다가 밖에 나와서 머리카락 흔들릴 때마다 느껴지는 거 너무 좋아\n",
    "저도...마싯는 커피 마시고 싶어여...훌젹 ㅋㅋㅋ 막 요즘 로스팅 전문 하는 데 가서 마시구 싶고 그러네요 근데 어떤데 있는질 몰라서... 합정 상수 부근 쪽 찾아볼가여?\n",
    "예전에는 스타벅스 비싸다는 인식 있었는데 카페 가격 다 똑같은듯\n",
    "저도 그렇게 섬세한 입맛 아니라서 ㅋㅋ 가격 맛 찾아낼 수 있을지는 의문이네요...ㅋㅋㅋ 평범한  곳 가도 갠찬아여! 엄청 맛 없는 것만 아니라면야 ㅋㅋㅋ\"\"\"\n",
    "\n",
    "for c in sent.split():\n",
    "    print(c, end=\" \")"
   ]
  },
  {
   "cell_type": "markdown",
   "metadata": {},
   "source": [
    "* sent.split()는 문장을 단어로 분리한다.\n",
    "* 각 단어를 키로, 단어수를 값으로 저장한다. 단어가 이미 있으면 1을 더한다."
   ]
  },
  {
   "cell_type": "code",
   "execution_count": 4,
   "metadata": {},
   "outputs": [],
   "source": [
    "d = dict()\n",
    "for c in sent.split():\n",
    "    if c not in d:\n",
    "        d[c]=1\n",
    "    else:\n",
    "        d[c]=d[c]+1"
   ]
  },
  {
   "cell_type": "markdown",
   "metadata": {},
   "source": [
    "* 빈도가 2이상인 경우만 별도로 분리하여 저장한다. 이 데이터로 곧 그래프를 그리게 된다.\n",
    "* 반복문에 iteritems()함수를 사용하여 하나씩 단어를 가져온다."
   ]
  },
  {
   "cell_type": "code",
   "execution_count": 5,
   "metadata": {},
   "outputs": [
    {
     "name": "stdout",
     "output_type": "stream",
     "text": [
      "스타벅스 3\n",
      "머리카락 2\n",
      "ㅋㅋㅋ 2\n",
      "가격 2\n",
      "맛 2\n"
     ]
    }
   ],
   "source": [
    "d1 = dict()\n",
    "for key, value in d.items():\n",
    "    if value>1:\n",
    "        d1[key]=value\n",
    "        print(key, value)"
   ]
  },
  {
   "cell_type": "markdown",
   "metadata": {},
   "source": [
    "* 단어수가 2이상인 경우만 그래프를 그려본다.\n",
    "    * x축은 키를 (단어)\n",
    "    * y축은 키 값을 넣는다 (단어의 빈도수)"
   ]
  },
  {
   "cell_type": "code",
   "execution_count": 6,
   "metadata": {},
   "outputs": [
    {
     "data": {
      "image/png": "[encoded data removed]",
      "text/plain": [
       "<Figure size 640x480 with 1 Axes>"
      ]
     },
     "metadata": {},
     "output_type": "display_data"
    }
   ],
   "source": [
    "%matplotlib inline\n",
    "\n",
    "import matplotlib\n",
    "import matplotlib.pyplot as plt\n",
    "\n",
    "plt.rcParams[\"font.family\"] = \"AppleGothic\" \n",
    "#plt.rc('font', family='Malgun Gothic')\n",
    "plt.bar(range(len(d1)), d1.values(), align='center')\n",
    "plt.xticks(range(len(d1)), list(d1.keys()))\n",
    "plt.show()"
   ]
  },
  {
   "cell_type": "markdown",
   "metadata": {},
   "source": [
    "## 코드 설명\n",
    "\n",
    "- L1: 셀 바로 뒤, 같은 화면에서 출력하라는 뜻\n",
    "- L6: plt.rcParams는 dictionary 형식으로 그래프의 크기, 폰트, 색, 그리드 등 설정을 변경한다. 줄여서 plt.rc()를 사용해도 된다.\n",
    "\n",
    "```\n",
    "plt.rcParams[\"figure.figsize\"] = (10, 6)  # Set the default figure size\n",
    "plt.rcParams[\"font.family\"] = \"sans-serif\"  # Set the default font family\n",
    "plt.rcParams[\"axes.grid\"] = True  # Show grid lines on plots\n",
    "plt.rcParams[\"axes.labelsize\"] = 12\n",
    "또는\n",
    "plt.rc('font', family='Malgun Gothic')\n",
    "plt.rc('font', family='NanumMyeongjo')\n",
    "```\n",
    "\n",
    "- 가능한 font list 확인하려면\n",
    "\n",
    "```\n",
    "import matplotlib.font_manager as fm\n",
    "f = [f.name for f in fm.fontManager.ttflist]\n",
    "print(f)\n",
    "```"
   ]
  },
  {
   "cell_type": "markdown",
   "metadata": {},
   "source": [
    "* 파일 버전 ds1_1_wordcount.py\n",
    "* 한글이 섞여 있으므로 '#coding:utf-8'을 넣어 인코딩을 정의한다."
   ]
  },
  {
   "cell_type": "code",
   "execution_count": 7,
   "metadata": {},
   "outputs": [],
   "source": [
    "%matplotlib inline"
   ]
  },
  {
   "cell_type": "code",
   "execution_count": 10,
   "metadata": {},
   "outputs": [
    {
     "name": "stdout",
     "output_type": "stream",
     "text": [
      "Overwriting src/ds1_spark_intro.py\n"
     ]
    }
   ],
   "source": [
    "%%writefile src/ds1_spark_intro.py\n",
    "import matplotlib\n",
    "import matplotlib.pyplot as plt \n",
    "\n",
    "sent = \"\"\"진동벨 좀 만들었으면 좋겠다 2층 매장이라 결국 손님 어딨는지는 몰라서 그저 열심히 목터져가며 소리지르는게 전부임 넘 안쓰럽다 그리고 픽업 장소 옆은 시장통임 북적북적\n",
    "옆 동네 스타벅스 왔다,,, 무려 노트북 들고,,,,!\n",
    "스타벅스 있다가 나오면 머리카락 커피향기 배는데 안에 있을 땐 모르겠다가 밖에 나와서 머리카락 흔들릴 때마다 느껴지는 거 너무 좋아\n",
    "저도...마싯는 커피 마시고 싶어여...훌젹 ㅋㅋㅋ 막 요즘 로스팅 전문 하는 데 가서 마시구 싶고 그러네요 근데 어떤데 있는질 몰라서... 합정 상수 부근 쪽 찾아볼가여?\n",
    "예전에는 스타벅스 비싸다는 인식 있었는데 카페 가격 다 똑같은듯\n",
    "저도 그렇게 섬세한 입맛 아니라서 ㅋㅋ 가격 맛 찾아낼 수 있을지는 의문이네요...ㅋㅋㅋ 평범한  곳 가도 갠찬아여! 엄청 맛 없는 것만 아니라면야 ㅋㅋㅋ\"\"\"\n",
    "\n",
    "def do():\n",
    "    d = dict()\n",
    "    for c in sent.split():\n",
    "        if c not in d:\n",
    "            d[c]=1\n",
    "        else:\n",
    "            d[c]=d[c]+1\n",
    "    d1 = dict()\n",
    "    for key, value in d.items():\n",
    "        if value>1:\n",
    "            d1[key]=value\n",
    "            print(key, value)\n",
    "    plt.bar(range(len(d1)), d1.values(), align='center')\n",
    "    plt.xticks(range(len(d1)), list(d1.keys()))\n",
    "    plt.show()\n",
    "\n",
    "def main():\n",
    "    do()\n",
    "\n",
    "if __name__==\"__main__\":\n",
    "    main()"
   ]
  },
  {
   "cell_type": "code",
   "execution_count": 13,
   "metadata": {},
   "outputs": [
    {
     "name": "stdout",
     "output_type": "stream",
     "text": [
      "스타벅스 3\n",
      "머리카락 2\n",
      "ㅋㅋㅋ 2\n",
      "가격 2\n",
      "맛 2\n",
      "Figure(640x480)\n"
     ]
    }
   ],
   "source": [
    "!python3 src/ds1_spark_intro.py"
   ]
  }
 ],
 "metadata": {
  "celltoolbar": "Slideshow",
  "kernelspec": {
   "display_name": "Python 3 (ipykernel)",
   "language": "python",
   "name": "python3"
  },
  "language_info": {
   "codemirror_mode": {
    "name": "ipython",
    "version": 3
   },
   "file_extension": ".py",
   "mimetype": "text/x-python",
   "name": "python",
   "nbconvert_exporter": "python",
   "pygments_lexer": "ipython3",
   "version": "3.7.16"
  }
 },
 "nbformat": 4,
 "nbformat_minor": 4
}
